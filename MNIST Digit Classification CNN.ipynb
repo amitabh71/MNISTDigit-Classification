{
 "cells": [
  {
   "cell_type": "code",
   "execution_count": 1,
   "id": "03e207f7",
   "metadata": {},
   "outputs": [
    {
     "name": "stderr",
     "output_type": "stream",
     "text": [
      "2024-01-20 11:02:26.412117: I tensorflow/core/platform/cpu_feature_guard.cc:182] This TensorFlow binary is optimized to use available CPU instructions in performance-critical operations.\n",
      "To enable the following instructions: AVX2 FMA, in other operations, rebuild TensorFlow with the appropriate compiler flags.\n"
     ]
    }
   ],
   "source": [
    "import tensorflow as tf"
   ]
  },
  {
   "cell_type": "markdown",
   "id": "fd6f4791",
   "metadata": {},
   "source": [
    "### The database contains 60,000 28x28 grayscale images of the 10 digits, along with a test set of 10,000 images."
   ]
  },
  {
   "cell_type": "code",
   "execution_count": 2,
   "id": "cfadba5f",
   "metadata": {},
   "outputs": [],
   "source": [
    "import pandas as pd\n",
    "%matplotlib inline\n",
    "import matplotlib as mpl\n",
    "import matplotlib.pyplot as plt"
   ]
  },
  {
   "cell_type": "code",
   "execution_count": 3,
   "id": "cc95ab75",
   "metadata": {},
   "outputs": [],
   "source": [
    "import keras"
   ]
  },
  {
   "cell_type": "code",
   "execution_count": 5,
   "id": "4a9ebe52",
   "metadata": {},
   "outputs": [],
   "source": [
    "digit_mnist = keras.datasets.mnist\n",
    "(X_train_full,y_train_full), (X_test,y_test)=digit_mnist.load_data()"
   ]
  },
  {
   "cell_type": "code",
   "execution_count": 6,
   "id": "bdfb2de4",
   "metadata": {},
   "outputs": [
    {
     "data": {
      "text/plain": [
       "<matplotlib.image.AxesImage at 0x135957690>"
      ]
     },
     "execution_count": 6,
     "metadata": {},
     "output_type": "execute_result"
    },
    {
     "data": {
      "image/png": "[encoded data removed]",
      "text/plain": [
       "<Figure size 640x480 with 1 Axes>"
      ]
     },
     "metadata": {},
     "output_type": "display_data"
    }
   ],
   "source": [
    "plt.imshow(X_train_full[0])"
   ]
  },
  {
   "cell_type": "code",
   "execution_count": 7,
   "id": "1884a3a6",
   "metadata": {},
   "outputs": [
    {
     "data": {
      "text/plain": [
       "5"
      ]
     },
     "execution_count": 7,
     "metadata": {},
     "output_type": "execute_result"
    }
   ],
   "source": [
    "y_train_full[0]"
   ]
  },
  {
   "cell_type": "code",
   "execution_count": 8,
   "id": "978acd2c",
   "metadata": {},
   "outputs": [
    {
     "data": {
      "text/plain": [
       "array([[  0,   0,   0,   0,   0,   0,   0,   0,   0,   0,   0,   0,   0,\n",
       "          0,   0,   0,   0,   0,   0,   0,   0,   0,   0,   0,   0,   0,\n",
       "          0,   0],\n",
       "       [  0,   0,   0,   0,   0,   0,   0,   0,   0,   0,   0,   0,   0,\n",
       "          0,   0,   0,   0,   0,   0,   0,   0,   0,   0,   0,   0,   0,\n",
       "          0,   0],\n",
       "       [  0,   0,   0,   0,   0,   0,   0,   0,   0,   0,   0,   0,   0,\n",
       "          0,   0,   0,   0,   0,   0,   0,   0,   0,   0,   0,   0,   0,\n",
       "          0,   0],\n",
       "       [  0,   0,   0,   0,   0,   0,   0,   0,   0,   0,   0,   0,   0,\n",
       "          0,   0,   0,   0,   0,   0,   0,   0,   0,   0,   0,   0,   0,\n",
       "          0,   0],\n",
       "       [  0,   0,   0,   0,   0,   0,   0,   0,   0,   0,   0,   0,   0,\n",
       "          0,   0,   0,   0,   0,   0,   0,   0,   0,   0,   0,   0,   0,\n",
       "          0,   0],\n",
       "       [  0,   0,   0,   0,   0,   0,   0,   0,   0,   0,   0,   0,   3,\n",
       "         18,  18,  18, 126, 136, 175,  26, 166, 255, 247, 127,   0,   0,\n",
       "          0,   0],\n",
       "       [  0,   0,   0,   0,   0,   0,   0,   0,  30,  36,  94, 154, 170,\n",
       "        253, 253, 253, 253, 253, 225, 172, 253, 242, 195,  64,   0,   0,\n",
       "          0,   0],\n",
       "       [  0,   0,   0,   0,   0,   0,   0,  49, 238, 253, 253, 253, 253,\n",
       "        253, 253, 253, 253, 251,  93,  82,  82,  56,  39,   0,   0,   0,\n",
       "          0,   0],\n",
       "       [  0,   0,   0,   0,   0,   0,   0,  18, 219, 253, 253, 253, 253,\n",
       "        253, 198, 182, 247, 241,   0,   0,   0,   0,   0,   0,   0,   0,\n",
       "          0,   0],\n",
       "       [  0,   0,   0,   0,   0,   0,   0,   0,  80, 156, 107, 253, 253,\n",
       "        205,  11,   0,  43, 154,   0,   0,   0,   0,   0,   0,   0,   0,\n",
       "          0,   0],\n",
       "       [  0,   0,   0,   0,   0,   0,   0,   0,   0,  14,   1, 154, 253,\n",
       "         90,   0,   0,   0,   0,   0,   0,   0,   0,   0,   0,   0,   0,\n",
       "          0,   0],\n",
       "       [  0,   0,   0,   0,   0,   0,   0,   0,   0,   0,   0, 139, 253,\n",
       "        190,   2,   0,   0,   0,   0,   0,   0,   0,   0,   0,   0,   0,\n",
       "          0,   0],\n",
       "       [  0,   0,   0,   0,   0,   0,   0,   0,   0,   0,   0,  11, 190,\n",
       "        253,  70,   0,   0,   0,   0,   0,   0,   0,   0,   0,   0,   0,\n",
       "          0,   0],\n",
       "       [  0,   0,   0,   0,   0,   0,   0,   0,   0,   0,   0,   0,  35,\n",
       "        241, 225, 160, 108,   1,   0,   0,   0,   0,   0,   0,   0,   0,\n",
       "          0,   0],\n",
       "       [  0,   0,   0,   0,   0,   0,   0,   0,   0,   0,   0,   0,   0,\n",
       "         81, 240, 253, 253, 119,  25,   0,   0,   0,   0,   0,   0,   0,\n",
       "          0,   0],\n",
       "       [  0,   0,   0,   0,   0,   0,   0,   0,   0,   0,   0,   0,   0,\n",
       "          0,  45, 186, 253, 253, 150,  27,   0,   0,   0,   0,   0,   0,\n",
       "          0,   0],\n",
       "       [  0,   0,   0,   0,   0,   0,   0,   0,   0,   0,   0,   0,   0,\n",
       "          0,   0,  16,  93, 252, 253, 187,   0,   0,   0,   0,   0,   0,\n",
       "          0,   0],\n",
       "       [  0,   0,   0,   0,   0,   0,   0,   0,   0,   0,   0,   0,   0,\n",
       "          0,   0,   0,   0, 249, 253, 249,  64,   0,   0,   0,   0,   0,\n",
       "          0,   0],\n",
       "       [  0,   0,   0,   0,   0,   0,   0,   0,   0,   0,   0,   0,   0,\n",
       "          0,  46, 130, 183, 253, 253, 207,   2,   0,   0,   0,   0,   0,\n",
       "          0,   0],\n",
       "       [  0,   0,   0,   0,   0,   0,   0,   0,   0,   0,   0,   0,  39,\n",
       "        148, 229, 253, 253, 253, 250, 182,   0,   0,   0,   0,   0,   0,\n",
       "          0,   0],\n",
       "       [  0,   0,   0,   0,   0,   0,   0,   0,   0,   0,  24, 114, 221,\n",
       "        253, 253, 253, 253, 201,  78,   0,   0,   0,   0,   0,   0,   0,\n",
       "          0,   0],\n",
       "       [  0,   0,   0,   0,   0,   0,   0,   0,  23,  66, 213, 253, 253,\n",
       "        253, 253, 198,  81,   2,   0,   0,   0,   0,   0,   0,   0,   0,\n",
       "          0,   0],\n",
       "       [  0,   0,   0,   0,   0,   0,  18, 171, 219, 253, 253, 253, 253,\n",
       "        195,  80,   9,   0,   0,   0,   0,   0,   0,   0,   0,   0,   0,\n",
       "          0,   0],\n",
       "       [  0,   0,   0,   0,  55, 172, 226, 253, 253, 253, 253, 244, 133,\n",
       "         11,   0,   0,   0,   0,   0,   0,   0,   0,   0,   0,   0,   0,\n",
       "          0,   0],\n",
       "       [  0,   0,   0,   0, 136, 253, 253, 253, 212, 135, 132,  16,   0,\n",
       "          0,   0,   0,   0,   0,   0,   0,   0,   0,   0,   0,   0,   0,\n",
       "          0,   0],\n",
       "       [  0,   0,   0,   0,   0,   0,   0,   0,   0,   0,   0,   0,   0,\n",
       "          0,   0,   0,   0,   0,   0,   0,   0,   0,   0,   0,   0,   0,\n",
       "          0,   0],\n",
       "       [  0,   0,   0,   0,   0,   0,   0,   0,   0,   0,   0,   0,   0,\n",
       "          0,   0,   0,   0,   0,   0,   0,   0,   0,   0,   0,   0,   0,\n",
       "          0,   0],\n",
       "       [  0,   0,   0,   0,   0,   0,   0,   0,   0,   0,   0,   0,   0,\n",
       "          0,   0,   0,   0,   0,   0,   0,   0,   0,   0,   0,   0,   0,\n",
       "          0,   0]], dtype=uint8)"
      ]
     },
     "execution_count": 8,
     "metadata": {},
     "output_type": "execute_result"
    }
   ],
   "source": [
    "X_train_full[0]"
   ]
  },
  {
   "cell_type": "code",
   "execution_count": 9,
   "id": "d2126b56",
   "metadata": {},
   "outputs": [],
   "source": [
    "X_train_n=X_train_full / 255\n",
    "X_test_n=X_test / 255"
   ]
  },
  {
   "cell_type": "code",
   "execution_count": 10,
   "id": "aa7944a4",
   "metadata": {},
   "outputs": [
    {
     "data": {
      "text/plain": [
       "array([[0.        , 0.        , 0.        , 0.        , 0.        ,\n",
       "        0.        , 0.        , 0.        , 0.        , 0.        ,\n",
       "        0.        , 0.        , 0.        , 0.        , 0.        ,\n",
       "        0.        , 0.        , 0.        , 0.        , 0.        ,\n",
       "        0.        , 0.        , 0.        , 0.        , 0.        ,\n",
       "        0.        , 0.        , 0.        ],\n",
       "       [0.        , 0.        , 0.        , 0.        , 0.        ,\n",
       "        0.        , 0.        , 0.        , 0.        , 0.        ,\n",
       "        0.        , 0.        , 0.        , 0.        , 0.        ,\n",
       "        0.        , 0.        , 0.        , 0.        , 0.        ,\n",
       "        0.        , 0.        , 0.        , 0.        , 0.        ,\n",
       "        0.        , 0.        , 0.        ],\n",
       "       [0.        , 0.        , 0.        , 0.        , 0.        ,\n",
       "        0.        , 0.        , 0.        , 0.        , 0.        ,\n",
       "        0.        , 0.        , 0.        , 0.        , 0.        ,\n",
       "        0.        , 0.        , 0.        , 0.        , 0.        ,\n",
       "        0.        , 0.        , 0.        , 0.        , 0.        ,\n",
       "        0.        , 0.        , 0.        ],\n",
       "       [0.        , 0.        , 0.        , 0.        , 0.        ,\n",
       "        0.        , 0.        , 0.        , 0.        , 0.        ,\n",
       "        0.        , 0.        , 0.        , 0.        , 0.        ,\n",
       "        0.        , 0.        , 0.        , 0.        , 0.        ,\n",
       "        0.        , 0.        , 0.        , 0.        , 0.        ,\n",
       "        0.        , 0.        , 0.        ],\n",
       "       [0.        , 0.        , 0.        , 0.        , 0.        ,\n",
       "        0.        , 0.        , 0.        , 0.        , 0.        ,\n",
       "        0.        , 0.        , 0.        , 0.        , 0.        ,\n",
       "        0.        , 0.        , 0.        , 0.        , 0.        ,\n",
       "        0.        , 0.        , 0.        , 0.        , 0.        ,\n",
       "        0.        , 0.        , 0.        ],\n",
       "       [0.        , 0.        , 0.        , 0.        , 0.        ,\n",
       "        0.        , 0.        , 0.        , 0.        , 0.        ,\n",
       "        0.        , 0.        , 0.01176471, 0.07058824, 0.07058824,\n",
       "        0.07058824, 0.49411765, 0.53333333, 0.68627451, 0.10196078,\n",
       "        0.65098039, 1.        , 0.96862745, 0.49803922, 0.        ,\n",
       "        0.        , 0.        , 0.        ],\n",
       "       [0.        , 0.        , 0.        , 0.        , 0.        ,\n",
       "        0.        , 0.        , 0.        , 0.11764706, 0.14117647,\n",
       "        0.36862745, 0.60392157, 0.66666667, 0.99215686, 0.99215686,\n",
       "        0.99215686, 0.99215686, 0.99215686, 0.88235294, 0.6745098 ,\n",
       "        0.99215686, 0.94901961, 0.76470588, 0.25098039, 0.        ,\n",
       "        0.        , 0.        , 0.        ],\n",
       "       [0.        , 0.        , 0.        , 0.        , 0.        ,\n",
       "        0.        , 0.        , 0.19215686, 0.93333333, 0.99215686,\n",
       "        0.99215686, 0.99215686, 0.99215686, 0.99215686, 0.99215686,\n",
       "        0.99215686, 0.99215686, 0.98431373, 0.36470588, 0.32156863,\n",
       "        0.32156863, 0.21960784, 0.15294118, 0.        , 0.        ,\n",
       "        0.        , 0.        , 0.        ],\n",
       "       [0.        , 0.        , 0.        , 0.        , 0.        ,\n",
       "        0.        , 0.        , 0.07058824, 0.85882353, 0.99215686,\n",
       "        0.99215686, 0.99215686, 0.99215686, 0.99215686, 0.77647059,\n",
       "        0.71372549, 0.96862745, 0.94509804, 0.        , 0.        ,\n",
       "        0.        , 0.        , 0.        , 0.        , 0.        ,\n",
       "        0.        , 0.        , 0.        ],\n",
       "       [0.        , 0.        , 0.        , 0.        , 0.        ,\n",
       "        0.        , 0.        , 0.        , 0.31372549, 0.61176471,\n",
       "        0.41960784, 0.99215686, 0.99215686, 0.80392157, 0.04313725,\n",
       "        0.        , 0.16862745, 0.60392157, 0.        , 0.        ,\n",
       "        0.        , 0.        , 0.        , 0.        , 0.        ,\n",
       "        0.        , 0.        , 0.        ],\n",
       "       [0.        , 0.        , 0.        , 0.        , 0.        ,\n",
       "        0.        , 0.        , 0.        , 0.        , 0.05490196,\n",
       "        0.00392157, 0.60392157, 0.99215686, 0.35294118, 0.        ,\n",
       "        0.        , 0.        , 0.        , 0.        , 0.        ,\n",
       "        0.        , 0.        , 0.        , 0.        , 0.        ,\n",
       "        0.        , 0.        , 0.        ],\n",
       "       [0.        , 0.        , 0.        , 0.        , 0.        ,\n",
       "        0.        , 0.        , 0.        , 0.        , 0.        ,\n",
       "        0.        , 0.54509804, 0.99215686, 0.74509804, 0.00784314,\n",
       "        0.        , 0.        , 0.        , 0.        , 0.        ,\n",
       "        0.        , 0.        , 0.        , 0.        , 0.        ,\n",
       "        0.        , 0.        , 0.        ],\n",
       "       [0.        , 0.        , 0.        , 0.        , 0.        ,\n",
       "        0.        , 0.        , 0.        , 0.        , 0.        ,\n",
       "        0.        , 0.04313725, 0.74509804, 0.99215686, 0.2745098 ,\n",
       "        0.        , 0.        , 0.        , 0.        , 0.        ,\n",
       "        0.        , 0.        , 0.        , 0.        , 0.        ,\n",
       "        0.        , 0.        , 0.        ],\n",
       "       [0.        , 0.        , 0.        , 0.        , 0.        ,\n",
       "        0.        , 0.        , 0.        , 0.        , 0.        ,\n",
       "        0.        , 0.        , 0.1372549 , 0.94509804, 0.88235294,\n",
       "        0.62745098, 0.42352941, 0.00392157, 0.        , 0.        ,\n",
       "        0.        , 0.        , 0.        , 0.        , 0.        ,\n",
       "        0.        , 0.        , 0.        ],\n",
       "       [0.        , 0.        , 0.        , 0.        , 0.        ,\n",
       "        0.        , 0.        , 0.        , 0.        , 0.        ,\n",
       "        0.        , 0.        , 0.        , 0.31764706, 0.94117647,\n",
       "        0.99215686, 0.99215686, 0.46666667, 0.09803922, 0.        ,\n",
       "        0.        , 0.        , 0.        , 0.        , 0.        ,\n",
       "        0.        , 0.        , 0.        ],\n",
       "       [0.        , 0.        , 0.        , 0.        , 0.        ,\n",
       "        0.        , 0.        , 0.        , 0.        , 0.        ,\n",
       "        0.        , 0.        , 0.        , 0.        , 0.17647059,\n",
       "        0.72941176, 0.99215686, 0.99215686, 0.58823529, 0.10588235,\n",
       "        0.        , 0.        , 0.        , 0.        , 0.        ,\n",
       "        0.        , 0.        , 0.        ],\n",
       "       [0.        , 0.        , 0.        , 0.        , 0.        ,\n",
       "        0.        , 0.        , 0.        , 0.        , 0.        ,\n",
       "        0.        , 0.        , 0.        , 0.        , 0.        ,\n",
       "        0.0627451 , 0.36470588, 0.98823529, 0.99215686, 0.73333333,\n",
       "        0.        , 0.        , 0.        , 0.        , 0.        ,\n",
       "        0.        , 0.        , 0.        ],\n",
       "       [0.        , 0.        , 0.        , 0.        , 0.        ,\n",
       "        0.        , 0.        , 0.        , 0.        , 0.        ,\n",
       "        0.        , 0.        , 0.        , 0.        , 0.        ,\n",
       "        0.        , 0.        , 0.97647059, 0.99215686, 0.97647059,\n",
       "        0.25098039, 0.        , 0.        , 0.        , 0.        ,\n",
       "        0.        , 0.        , 0.        ],\n",
       "       [0.        , 0.        , 0.        , 0.        , 0.        ,\n",
       "        0.        , 0.        , 0.        , 0.        , 0.        ,\n",
       "        0.        , 0.        , 0.        , 0.        , 0.18039216,\n",
       "        0.50980392, 0.71764706, 0.99215686, 0.99215686, 0.81176471,\n",
       "        0.00784314, 0.        , 0.        , 0.        , 0.        ,\n",
       "        0.        , 0.        , 0.        ],\n",
       "       [0.        , 0.        , 0.        , 0.        , 0.        ,\n",
       "        0.        , 0.        , 0.        , 0.        , 0.        ,\n",
       "        0.        , 0.        , 0.15294118, 0.58039216, 0.89803922,\n",
       "        0.99215686, 0.99215686, 0.99215686, 0.98039216, 0.71372549,\n",
       "        0.        , 0.        , 0.        , 0.        , 0.        ,\n",
       "        0.        , 0.        , 0.        ],\n",
       "       [0.        , 0.        , 0.        , 0.        , 0.        ,\n",
       "        0.        , 0.        , 0.        , 0.        , 0.        ,\n",
       "        0.09411765, 0.44705882, 0.86666667, 0.99215686, 0.99215686,\n",
       "        0.99215686, 0.99215686, 0.78823529, 0.30588235, 0.        ,\n",
       "        0.        , 0.        , 0.        , 0.        , 0.        ,\n",
       "        0.        , 0.        , 0.        ],\n",
       "       [0.        , 0.        , 0.        , 0.        , 0.        ,\n",
       "        0.        , 0.        , 0.        , 0.09019608, 0.25882353,\n",
       "        0.83529412, 0.99215686, 0.99215686, 0.99215686, 0.99215686,\n",
       "        0.77647059, 0.31764706, 0.00784314, 0.        , 0.        ,\n",
       "        0.        , 0.        , 0.        , 0.        , 0.        ,\n",
       "        0.        , 0.        , 0.        ],\n",
       "       [0.        , 0.        , 0.        , 0.        , 0.        ,\n",
       "        0.        , 0.07058824, 0.67058824, 0.85882353, 0.99215686,\n",
       "        0.99215686, 0.99215686, 0.99215686, 0.76470588, 0.31372549,\n",
       "        0.03529412, 0.        , 0.        , 0.        , 0.        ,\n",
       "        0.        , 0.        , 0.        , 0.        , 0.        ,\n",
       "        0.        , 0.        , 0.        ],\n",
       "       [0.        , 0.        , 0.        , 0.        , 0.21568627,\n",
       "        0.6745098 , 0.88627451, 0.99215686, 0.99215686, 0.99215686,\n",
       "        0.99215686, 0.95686275, 0.52156863, 0.04313725, 0.        ,\n",
       "        0.        , 0.        , 0.        , 0.        , 0.        ,\n",
       "        0.        , 0.        , 0.        , 0.        , 0.        ,\n",
       "        0.        , 0.        , 0.        ],\n",
       "       [0.        , 0.        , 0.        , 0.        , 0.53333333,\n",
       "        0.99215686, 0.99215686, 0.99215686, 0.83137255, 0.52941176,\n",
       "        0.51764706, 0.0627451 , 0.        , 0.        , 0.        ,\n",
       "        0.        , 0.        , 0.        , 0.        , 0.        ,\n",
       "        0.        , 0.        , 0.        , 0.        , 0.        ,\n",
       "        0.        , 0.        , 0.        ],\n",
       "       [0.        , 0.        , 0.        , 0.        , 0.        ,\n",
       "        0.        , 0.        , 0.        , 0.        , 0.        ,\n",
       "        0.        , 0.        , 0.        , 0.        , 0.        ,\n",
       "        0.        , 0.        , 0.        , 0.        , 0.        ,\n",
       "        0.        , 0.        , 0.        , 0.        , 0.        ,\n",
       "        0.        , 0.        , 0.        ],\n",
       "       [0.        , 0.        , 0.        , 0.        , 0.        ,\n",
       "        0.        , 0.        , 0.        , 0.        , 0.        ,\n",
       "        0.        , 0.        , 0.        , 0.        , 0.        ,\n",
       "        0.        , 0.        , 0.        , 0.        , 0.        ,\n",
       "        0.        , 0.        , 0.        , 0.        , 0.        ,\n",
       "        0.        , 0.        , 0.        ],\n",
       "       [0.        , 0.        , 0.        , 0.        , 0.        ,\n",
       "        0.        , 0.        , 0.        , 0.        , 0.        ,\n",
       "        0.        , 0.        , 0.        , 0.        , 0.        ,\n",
       "        0.        , 0.        , 0.        , 0.        , 0.        ,\n",
       "        0.        , 0.        , 0.        , 0.        , 0.        ,\n",
       "        0.        , 0.        , 0.        ]])"
      ]
     },
     "execution_count": 10,
     "metadata": {},
     "output_type": "execute_result"
    }
   ],
   "source": [
    "X_train_n[0]"
   ]
  },
  {
   "cell_type": "code",
   "execution_count": 12,
   "id": "0f06a96d",
   "metadata": {},
   "outputs": [],
   "source": [
    "X_valid,X_train = X_train_n[:6000] ,X_train_n[6000:]\n",
    "y_valid ,y_train=y_train_full[:6000], y_train_full[6000:]"
   ]
  },
  {
   "cell_type": "code",
   "execution_count": 13,
   "id": "8ffbe479",
   "metadata": {},
   "outputs": [],
   "source": [
    "import numpy as np"
   ]
  },
  {
   "cell_type": "code",
   "execution_count": 15,
   "id": "5f750b00",
   "metadata": {},
   "outputs": [],
   "source": [
    "np.random.seed(42)\n",
    "tf.random.set_seed(42)"
   ]
  },
  {
   "cell_type": "code",
   "execution_count": 20,
   "id": "a4eb6626",
   "metadata": {},
   "outputs": [],
   "source": [
    "model_a=keras.models.Sequential()\n",
    "model_a.add(keras.layers.Conv2D(filters = 32, kernel_size = (3, 3), strides=1, padding='valid',activation='relu',input_shape=(28,28,1)))\n",
    "model_a.add(keras.layers.MaxPooling2D((2,2)))\n",
    "model_a.add(keras.layers.Flatten())\n",
    "model_a.add(keras.layers.Dense(200,activation=\"relu\"))\n",
    "model_a.add(keras.layers.Dense(100,activation=\"relu\"))\n",
    "model_a.add(keras.layers.Dense(10,activation=\"softmax\"))"
   ]
  },
  {
   "cell_type": "code",
   "execution_count": 21,
   "id": "4b3ec747",
   "metadata": {},
   "outputs": [],
   "source": [
    "model_b=keras.models.Sequential()\n",
    "model_b.add(keras.layers.Conv2D(filters = 64, kernel_size = (3, 3), strides=1, padding='valid',activation='relu',input_shape=(28,28,1)))\n",
    "model_b.add(keras.layers.MaxPooling2D((2,2)))\n",
    "model_b.add(keras.layers.Flatten())\n",
    "model_b.add(keras.layers.Dense(200,activation=\"relu\"))\n",
    "model_b.add(keras.layers.Dense(100,activation=\"relu\"))\n",
    "model_b.add(keras.layers.Dense(10,activation=\"softmax\"))"
   ]
  },
  {
   "cell_type": "code",
   "execution_count": 22,
   "id": "7cd6869e",
   "metadata": {},
   "outputs": [
    {
     "name": "stdout",
     "output_type": "stream",
     "text": [
      "Model: \"sequential_4\"\n",
      "_________________________________________________________________\n",
      " Layer (type)                Output Shape              Param #   \n",
      "=================================================================\n",
      " conv2d_4 (Conv2D)           (None, 26, 26, 32)        320       \n",
      "                                                                 \n",
      " max_pooling2d_1 (MaxPoolin  (None, 13, 13, 32)        0         \n",
      " g2D)                                                            \n",
      "                                                                 \n",
      " flatten (Flatten)           (None, 5408)              0         \n",
      "                                                                 \n",
      " dense (Dense)               (None, 200)               1081800   \n",
      "                                                                 \n",
      " dense_1 (Dense)             (None, 100)               20100     \n",
      "                                                                 \n",
      " dense_2 (Dense)             (None, 10)                1010      \n",
      "                                                                 \n",
      "=================================================================\n",
      "Total params: 1103230 (4.21 MB)\n",
      "Trainable params: 1103230 (4.21 MB)\n",
      "Non-trainable params: 0 (0.00 Byte)\n",
      "_________________________________________________________________\n"
     ]
    }
   ],
   "source": [
    "model_a.summary()"
   ]
  },
  {
   "cell_type": "code",
   "execution_count": 23,
   "id": "a4365b93",
   "metadata": {},
   "outputs": [
    {
     "name": "stdout",
     "output_type": "stream",
     "text": [
      "Model: \"sequential_5\"\n",
      "_________________________________________________________________\n",
      " Layer (type)                Output Shape              Param #   \n",
      "=================================================================\n",
      " conv2d_5 (Conv2D)           (None, 26, 26, 64)        640       \n",
      "                                                                 \n",
      " max_pooling2d_2 (MaxPoolin  (None, 13, 13, 64)        0         \n",
      " g2D)                                                            \n",
      "                                                                 \n",
      " flatten_1 (Flatten)         (None, 10816)             0         \n",
      "                                                                 \n",
      " dense_3 (Dense)             (None, 200)               2163400   \n",
      "                                                                 \n",
      " dense_4 (Dense)             (None, 100)               20100     \n",
      "                                                                 \n",
      " dense_5 (Dense)             (None, 10)                1010      \n",
      "                                                                 \n",
      "=================================================================\n",
      "Total params: 2185150 (8.34 MB)\n",
      "Trainable params: 2185150 (8.34 MB)\n",
      "Non-trainable params: 0 (0.00 Byte)\n",
      "_________________________________________________________________\n"
     ]
    }
   ],
   "source": [
    "model_b.summary()"
   ]
  },
  {
   "cell_type": "code",
   "execution_count": 24,
   "id": "214de745",
   "metadata": {},
   "outputs": [],
   "source": [
    "model_a.compile(loss='sparse_categorical_crossentropy',optimizer='sgd',metrics=[\"accuracy\"])\n",
    "model_b.compile(loss='sparse_categorical_crossentropy',optimizer='sgd',metrics=[\"accuracy\"])"
   ]
  },
  {
   "cell_type": "code",
   "execution_count": 26,
   "id": "dc409dc4",
   "metadata": {},
   "outputs": [
    {
     "name": "stdout",
     "output_type": "stream",
     "text": [
      "Epoch 1/60\n",
      "844/844 [==============================] - 23s 26ms/step - loss: 0.7108 - accuracy: 0.8136 - val_loss: 0.2884 - val_accuracy: 0.9183\n",
      "Epoch 2/60\n",
      "844/844 [==============================] - 29s 35ms/step - loss: 0.2684 - accuracy: 0.9213 - val_loss: 0.2214 - val_accuracy: 0.9385\n",
      "Epoch 3/60\n",
      "844/844 [==============================] - 29s 34ms/step - loss: 0.2104 - accuracy: 0.9370 - val_loss: 0.1763 - val_accuracy: 0.9508\n",
      "Epoch 4/60\n",
      "844/844 [==============================] - 25s 30ms/step - loss: 0.1754 - accuracy: 0.9475 - val_loss: 0.1485 - val_accuracy: 0.9585\n",
      "Epoch 5/60\n",
      "844/844 [==============================] - 28s 33ms/step - loss: 0.1510 - accuracy: 0.9550 - val_loss: 0.1335 - val_accuracy: 0.9627\n",
      "Epoch 6/60\n",
      "844/844 [==============================] - 29s 34ms/step - loss: 0.1327 - accuracy: 0.9607 - val_loss: 0.1206 - val_accuracy: 0.9665\n",
      "Epoch 7/60\n",
      "844/844 [==============================] - 28s 34ms/step - loss: 0.1188 - accuracy: 0.9646 - val_loss: 0.1100 - val_accuracy: 0.9678\n",
      "Epoch 8/60\n",
      "844/844 [==============================] - 28s 34ms/step - loss: 0.1077 - accuracy: 0.9687 - val_loss: 0.1033 - val_accuracy: 0.9690\n",
      "Epoch 9/60\n",
      "844/844 [==============================] - 29s 34ms/step - loss: 0.0988 - accuracy: 0.9700 - val_loss: 0.0987 - val_accuracy: 0.9697\n",
      "Epoch 10/60\n",
      "844/844 [==============================] - 26s 30ms/step - loss: 0.0906 - accuracy: 0.9729 - val_loss: 0.0928 - val_accuracy: 0.9720\n",
      "Epoch 11/60\n",
      "844/844 [==============================] - 22s 26ms/step - loss: 0.0835 - accuracy: 0.9751 - val_loss: 0.0861 - val_accuracy: 0.9735\n",
      "Epoch 12/60\n",
      "844/844 [==============================] - 24s 28ms/step - loss: 0.0775 - accuracy: 0.9768 - val_loss: 0.0854 - val_accuracy: 0.9732\n",
      "Epoch 13/60\n",
      "844/844 [==============================] - 20s 24ms/step - loss: 0.0721 - accuracy: 0.9783 - val_loss: 0.0794 - val_accuracy: 0.9745\n",
      "Epoch 14/60\n",
      "844/844 [==============================] - 22s 27ms/step - loss: 0.0670 - accuracy: 0.9802 - val_loss: 0.0815 - val_accuracy: 0.9767\n",
      "Epoch 15/60\n",
      "844/844 [==============================] - 21s 25ms/step - loss: 0.0640 - accuracy: 0.9806 - val_loss: 0.0798 - val_accuracy: 0.9773\n",
      "Epoch 16/60\n",
      "844/844 [==============================] - 23s 28ms/step - loss: 0.0597 - accuracy: 0.9818 - val_loss: 0.0717 - val_accuracy: 0.9797\n",
      "Epoch 17/60\n",
      "844/844 [==============================] - 23s 27ms/step - loss: 0.0570 - accuracy: 0.9829 - val_loss: 0.0778 - val_accuracy: 0.9760\n",
      "Epoch 18/60\n",
      "844/844 [==============================] - 22s 26ms/step - loss: 0.0531 - accuracy: 0.9841 - val_loss: 0.0664 - val_accuracy: 0.9807\n",
      "Epoch 19/60\n",
      "844/844 [==============================] - 23s 27ms/step - loss: 0.0507 - accuracy: 0.9848 - val_loss: 0.0728 - val_accuracy: 0.9770\n",
      "Epoch 20/60\n",
      "844/844 [==============================] - 24s 28ms/step - loss: 0.0476 - accuracy: 0.9852 - val_loss: 0.0685 - val_accuracy: 0.9805\n",
      "Epoch 21/60\n",
      "844/844 [==============================] - 20s 24ms/step - loss: 0.0458 - accuracy: 0.9861 - val_loss: 0.0654 - val_accuracy: 0.9808\n",
      "Epoch 22/60\n",
      "844/844 [==============================] - 21s 25ms/step - loss: 0.0432 - accuracy: 0.9870 - val_loss: 0.0674 - val_accuracy: 0.9795\n",
      "Epoch 23/60\n",
      "844/844 [==============================] - 21s 25ms/step - loss: 0.0409 - accuracy: 0.9875 - val_loss: 0.0739 - val_accuracy: 0.9788\n",
      "Epoch 24/60\n",
      "844/844 [==============================] - 21s 25ms/step - loss: 0.0384 - accuracy: 0.9886 - val_loss: 0.0624 - val_accuracy: 0.9803\n",
      "Epoch 25/60\n",
      "844/844 [==============================] - 21s 25ms/step - loss: 0.0370 - accuracy: 0.9886 - val_loss: 0.0675 - val_accuracy: 0.9807\n",
      "Epoch 26/60\n",
      "844/844 [==============================] - 20s 24ms/step - loss: 0.0351 - accuracy: 0.9897 - val_loss: 0.0673 - val_accuracy: 0.9803\n",
      "Epoch 27/60\n",
      "844/844 [==============================] - 20s 24ms/step - loss: 0.0332 - accuracy: 0.9899 - val_loss: 0.0614 - val_accuracy: 0.9810\n",
      "Epoch 28/60\n",
      "844/844 [==============================] - 23s 27ms/step - loss: 0.0319 - accuracy: 0.9903 - val_loss: 0.0720 - val_accuracy: 0.9805\n",
      "Epoch 29/60\n",
      "844/844 [==============================] - 18s 22ms/step - loss: 0.0300 - accuracy: 0.9909 - val_loss: 0.0736 - val_accuracy: 0.9783\n",
      "Epoch 30/60\n",
      "844/844 [==============================] - 20s 23ms/step - loss: 0.0292 - accuracy: 0.9910 - val_loss: 0.0624 - val_accuracy: 0.9817\n",
      "Epoch 31/60\n",
      "844/844 [==============================] - 20s 24ms/step - loss: 0.0274 - accuracy: 0.9915 - val_loss: 0.0585 - val_accuracy: 0.9832\n",
      "Epoch 32/60\n",
      "844/844 [==============================] - 21s 25ms/step - loss: 0.0259 - accuracy: 0.9924 - val_loss: 0.0635 - val_accuracy: 0.9817\n",
      "Epoch 33/60\n",
      "844/844 [==============================] - 20s 23ms/step - loss: 0.0243 - accuracy: 0.9929 - val_loss: 0.0683 - val_accuracy: 0.9810\n",
      "Epoch 34/60\n",
      "844/844 [==============================] - 19s 23ms/step - loss: 0.0232 - accuracy: 0.9934 - val_loss: 0.0635 - val_accuracy: 0.9822\n",
      "Epoch 35/60\n",
      "844/844 [==============================] - 20s 24ms/step - loss: 0.0223 - accuracy: 0.9936 - val_loss: 0.0599 - val_accuracy: 0.9825\n",
      "Epoch 36/60\n",
      "844/844 [==============================] - 21s 24ms/step - loss: 0.0212 - accuracy: 0.9944 - val_loss: 0.0726 - val_accuracy: 0.9782\n",
      "Epoch 37/60\n",
      "844/844 [==============================] - 18s 21ms/step - loss: 0.0208 - accuracy: 0.9940 - val_loss: 0.0602 - val_accuracy: 0.9820\n",
      "Epoch 38/60\n",
      "844/844 [==============================] - 19s 22ms/step - loss: 0.0193 - accuracy: 0.9948 - val_loss: 0.0612 - val_accuracy: 0.9818\n",
      "Epoch 39/60\n",
      "844/844 [==============================] - 18s 21ms/step - loss: 0.0182 - accuracy: 0.9953 - val_loss: 0.0602 - val_accuracy: 0.9838\n",
      "Epoch 40/60\n",
      "844/844 [==============================] - 19s 22ms/step - loss: 0.0168 - accuracy: 0.9957 - val_loss: 0.0645 - val_accuracy: 0.9808\n",
      "Epoch 41/60\n",
      "844/844 [==============================] - 19s 22ms/step - loss: 0.0162 - accuracy: 0.9958 - val_loss: 0.0607 - val_accuracy: 0.9832\n",
      "Epoch 42/60\n",
      "844/844 [==============================] - 19s 23ms/step - loss: 0.0155 - accuracy: 0.9958 - val_loss: 0.0628 - val_accuracy: 0.9815\n",
      "Epoch 43/60\n",
      "844/844 [==============================] - 18s 22ms/step - loss: 0.0147 - accuracy: 0.9964 - val_loss: 0.0625 - val_accuracy: 0.9835\n",
      "Epoch 44/60\n",
      "844/844 [==============================] - 19s 22ms/step - loss: 0.0145 - accuracy: 0.9964 - val_loss: 0.0581 - val_accuracy: 0.9842\n",
      "Epoch 45/60\n",
      "844/844 [==============================] - 19s 23ms/step - loss: 0.0131 - accuracy: 0.9968 - val_loss: 0.0599 - val_accuracy: 0.9830\n",
      "Epoch 46/60\n",
      "844/844 [==============================] - 18s 21ms/step - loss: 0.0125 - accuracy: 0.9973 - val_loss: 0.0595 - val_accuracy: 0.9820\n",
      "Epoch 47/60\n",
      "844/844 [==============================] - 21s 25ms/step - loss: 0.0120 - accuracy: 0.9972 - val_loss: 0.0622 - val_accuracy: 0.9835\n",
      "Epoch 48/60\n",
      "844/844 [==============================] - 20s 24ms/step - loss: 0.0118 - accuracy: 0.9973 - val_loss: 0.0618 - val_accuracy: 0.9842\n",
      "Epoch 49/60\n",
      "844/844 [==============================] - 17s 21ms/step - loss: 0.0112 - accuracy: 0.9973 - val_loss: 0.0612 - val_accuracy: 0.9837\n",
      "Epoch 50/60\n",
      "844/844 [==============================] - 22s 26ms/step - loss: 0.0104 - accuracy: 0.9979 - val_loss: 0.0621 - val_accuracy: 0.9838\n",
      "Epoch 51/60\n",
      "844/844 [==============================] - 24s 29ms/step - loss: 0.0101 - accuracy: 0.9978 - val_loss: 0.0596 - val_accuracy: 0.9828\n",
      "Epoch 52/60\n",
      "844/844 [==============================] - 23s 27ms/step - loss: 0.0095 - accuracy: 0.9979 - val_loss: 0.0631 - val_accuracy: 0.9823\n",
      "Epoch 53/60\n",
      "844/844 [==============================] - 25s 30ms/step - loss: 0.0086 - accuracy: 0.9984 - val_loss: 0.0625 - val_accuracy: 0.9843\n",
      "Epoch 54/60\n",
      "844/844 [==============================] - 25s 30ms/step - loss: 0.0086 - accuracy: 0.9984 - val_loss: 0.0592 - val_accuracy: 0.9837\n",
      "Epoch 55/60\n",
      "844/844 [==============================] - 25s 29ms/step - loss: 0.0078 - accuracy: 0.9986 - val_loss: 0.0605 - val_accuracy: 0.9847\n",
      "Epoch 56/60\n",
      "844/844 [==============================] - 19s 23ms/step - loss: 0.0075 - accuracy: 0.9986 - val_loss: 0.0660 - val_accuracy: 0.9823\n",
      "Epoch 57/60\n",
      "844/844 [==============================] - 19s 23ms/step - loss: 0.0076 - accuracy: 0.9986 - val_loss: 0.0620 - val_accuracy: 0.9842\n",
      "Epoch 58/60\n",
      "844/844 [==============================] - 19s 23ms/step - loss: 0.0072 - accuracy: 0.9987 - val_loss: 0.0588 - val_accuracy: 0.9842\n",
      "Epoch 59/60\n",
      "844/844 [==============================] - 22s 26ms/step - loss: 0.0067 - accuracy: 0.9989 - val_loss: 0.0648 - val_accuracy: 0.9827\n",
      "Epoch 60/60\n",
      "844/844 [==============================] - 20s 23ms/step - loss: 0.0061 - accuracy: 0.9991 - val_loss: 0.0663 - val_accuracy: 0.9832\n"
     ]
    }
   ],
   "source": [
    "model_a_history=model_a.fit(X_train,y_train, epochs=60,batch_size=64,validation_data=(X_valid,y_valid))"
   ]
  },
  {
   "cell_type": "code",
   "execution_count": 27,
   "id": "c7c35f1a",
   "metadata": {},
   "outputs": [
    {
     "name": "stdout",
     "output_type": "stream",
     "text": [
      "Epoch 1/60\n",
      "844/844 [==============================] - 39s 46ms/step - loss: 0.6632 - accuracy: 0.8300 - val_loss: 0.2805 - val_accuracy: 0.9173\n",
      "Epoch 2/60\n",
      "844/844 [==============================] - 38s 45ms/step - loss: 0.2632 - accuracy: 0.9226 - val_loss: 0.2175 - val_accuracy: 0.9423\n",
      "Epoch 3/60\n",
      "844/844 [==============================] - 43s 51ms/step - loss: 0.2059 - accuracy: 0.9392 - val_loss: 0.1770 - val_accuracy: 0.9527\n",
      "Epoch 4/60\n",
      "844/844 [==============================] - 34s 40ms/step - loss: 0.1708 - accuracy: 0.9492 - val_loss: 0.1476 - val_accuracy: 0.9570\n",
      "Epoch 5/60\n",
      "844/844 [==============================] - 33s 39ms/step - loss: 0.1461 - accuracy: 0.9564 - val_loss: 0.1353 - val_accuracy: 0.9617\n",
      "Epoch 6/60\n",
      "844/844 [==============================] - 33s 39ms/step - loss: 0.1282 - accuracy: 0.9624 - val_loss: 0.1186 - val_accuracy: 0.9657\n",
      "Epoch 7/60\n",
      "844/844 [==============================] - 33s 39ms/step - loss: 0.1141 - accuracy: 0.9668 - val_loss: 0.1092 - val_accuracy: 0.9683\n",
      "Epoch 8/60\n",
      "844/844 [==============================] - 34s 40ms/step - loss: 0.1028 - accuracy: 0.9698 - val_loss: 0.0998 - val_accuracy: 0.9712\n",
      "Epoch 9/60\n",
      "844/844 [==============================] - 33s 39ms/step - loss: 0.0936 - accuracy: 0.9722 - val_loss: 0.0933 - val_accuracy: 0.9755\n",
      "Epoch 10/60\n",
      "844/844 [==============================] - 34s 40ms/step - loss: 0.0856 - accuracy: 0.9740 - val_loss: 0.0896 - val_accuracy: 0.9725\n",
      "Epoch 11/60\n",
      "844/844 [==============================] - 33s 39ms/step - loss: 0.0787 - accuracy: 0.9765 - val_loss: 0.0841 - val_accuracy: 0.9743\n",
      "Epoch 12/60\n",
      "844/844 [==============================] - 33s 39ms/step - loss: 0.0728 - accuracy: 0.9785 - val_loss: 0.0791 - val_accuracy: 0.9757\n",
      "Epoch 13/60\n",
      "844/844 [==============================] - 32s 38ms/step - loss: 0.0667 - accuracy: 0.9798 - val_loss: 0.0772 - val_accuracy: 0.9752\n",
      "Epoch 14/60\n",
      "844/844 [==============================] - 34s 40ms/step - loss: 0.0624 - accuracy: 0.9815 - val_loss: 0.0717 - val_accuracy: 0.9785\n",
      "Epoch 15/60\n",
      "844/844 [==============================] - 34s 40ms/step - loss: 0.0590 - accuracy: 0.9823 - val_loss: 0.0720 - val_accuracy: 0.9793\n",
      "Epoch 16/60\n",
      "844/844 [==============================] - 34s 40ms/step - loss: 0.0549 - accuracy: 0.9832 - val_loss: 0.0659 - val_accuracy: 0.9797\n",
      "Epoch 17/60\n",
      "844/844 [==============================] - 33s 39ms/step - loss: 0.0512 - accuracy: 0.9846 - val_loss: 0.0677 - val_accuracy: 0.9792\n",
      "Epoch 18/60\n",
      "844/844 [==============================] - 33s 39ms/step - loss: 0.0483 - accuracy: 0.9852 - val_loss: 0.0628 - val_accuracy: 0.9810\n",
      "Epoch 19/60\n",
      "844/844 [==============================] - 34s 40ms/step - loss: 0.0456 - accuracy: 0.9864 - val_loss: 0.0731 - val_accuracy: 0.9770\n",
      "Epoch 20/60\n",
      "844/844 [==============================] - 34s 41ms/step - loss: 0.0426 - accuracy: 0.9878 - val_loss: 0.0657 - val_accuracy: 0.9812\n",
      "Epoch 21/60\n",
      "844/844 [==============================] - 33s 39ms/step - loss: 0.0408 - accuracy: 0.9875 - val_loss: 0.0609 - val_accuracy: 0.9823\n",
      "Epoch 22/60\n",
      "844/844 [==============================] - 33s 40ms/step - loss: 0.0381 - accuracy: 0.9884 - val_loss: 0.0610 - val_accuracy: 0.9820\n",
      "Epoch 23/60\n",
      "844/844 [==============================] - 34s 41ms/step - loss: 0.0363 - accuracy: 0.9894 - val_loss: 0.0663 - val_accuracy: 0.9805\n",
      "Epoch 24/60\n",
      "844/844 [==============================] - 33s 40ms/step - loss: 0.0338 - accuracy: 0.9897 - val_loss: 0.0582 - val_accuracy: 0.9832\n",
      "Epoch 25/60\n",
      "844/844 [==============================] - 33s 39ms/step - loss: 0.0323 - accuracy: 0.9905 - val_loss: 0.0588 - val_accuracy: 0.9820\n",
      "Epoch 26/60\n",
      "844/844 [==============================] - 34s 40ms/step - loss: 0.0303 - accuracy: 0.9910 - val_loss: 0.0626 - val_accuracy: 0.9808\n",
      "Epoch 27/60\n",
      "844/844 [==============================] - 33s 39ms/step - loss: 0.0286 - accuracy: 0.9918 - val_loss: 0.0559 - val_accuracy: 0.9837\n",
      "Epoch 28/60\n",
      "844/844 [==============================] - 34s 41ms/step - loss: 0.0272 - accuracy: 0.9921 - val_loss: 0.0595 - val_accuracy: 0.9827\n",
      "Epoch 29/60\n",
      "844/844 [==============================] - 34s 40ms/step - loss: 0.0256 - accuracy: 0.9927 - val_loss: 0.0544 - val_accuracy: 0.9860\n",
      "Epoch 30/60\n",
      "844/844 [==============================] - 34s 40ms/step - loss: 0.0247 - accuracy: 0.9927 - val_loss: 0.0545 - val_accuracy: 0.9848\n",
      "Epoch 31/60\n",
      "844/844 [==============================] - 33s 40ms/step - loss: 0.0227 - accuracy: 0.9938 - val_loss: 0.0551 - val_accuracy: 0.9835\n",
      "Epoch 32/60\n",
      "844/844 [==============================] - 34s 41ms/step - loss: 0.0223 - accuracy: 0.9937 - val_loss: 0.0571 - val_accuracy: 0.9838\n",
      "Epoch 33/60\n",
      "844/844 [==============================] - 38s 45ms/step - loss: 0.0205 - accuracy: 0.9943 - val_loss: 0.0609 - val_accuracy: 0.9828\n",
      "Epoch 34/60\n",
      "844/844 [==============================] - 35s 41ms/step - loss: 0.0195 - accuracy: 0.9948 - val_loss: 0.0540 - val_accuracy: 0.9840\n",
      "Epoch 35/60\n",
      "844/844 [==============================] - 35s 42ms/step - loss: 0.0188 - accuracy: 0.9949 - val_loss: 0.0539 - val_accuracy: 0.9848\n",
      "Epoch 36/60\n",
      "844/844 [==============================] - 33s 40ms/step - loss: 0.0177 - accuracy: 0.9955 - val_loss: 0.0628 - val_accuracy: 0.9838\n",
      "Epoch 37/60\n",
      "844/844 [==============================] - 33s 39ms/step - loss: 0.0169 - accuracy: 0.9955 - val_loss: 0.0541 - val_accuracy: 0.9847\n",
      "Epoch 38/60\n",
      "844/844 [==============================] - 32s 38ms/step - loss: 0.0161 - accuracy: 0.9960 - val_loss: 0.0593 - val_accuracy: 0.9832\n",
      "Epoch 39/60\n",
      "844/844 [==============================] - 33s 39ms/step - loss: 0.0151 - accuracy: 0.9965 - val_loss: 0.0540 - val_accuracy: 0.9860\n",
      "Epoch 40/60\n",
      "844/844 [==============================] - 33s 40ms/step - loss: 0.0139 - accuracy: 0.9969 - val_loss: 0.0553 - val_accuracy: 0.9857\n",
      "Epoch 41/60\n",
      "844/844 [==============================] - 34s 40ms/step - loss: 0.0136 - accuracy: 0.9968 - val_loss: 0.0530 - val_accuracy: 0.9863\n",
      "Epoch 42/60\n",
      "844/844 [==============================] - 34s 40ms/step - loss: 0.0130 - accuracy: 0.9970 - val_loss: 0.0546 - val_accuracy: 0.9852\n",
      "Epoch 43/60\n",
      "844/844 [==============================] - 34s 40ms/step - loss: 0.0124 - accuracy: 0.9973 - val_loss: 0.0587 - val_accuracy: 0.9850\n",
      "Epoch 44/60\n",
      "844/844 [==============================] - 32s 38ms/step - loss: 0.0118 - accuracy: 0.9974 - val_loss: 0.0551 - val_accuracy: 0.9850\n",
      "Epoch 45/60\n",
      "844/844 [==============================] - 33s 39ms/step - loss: 0.0108 - accuracy: 0.9976 - val_loss: 0.0555 - val_accuracy: 0.9853\n",
      "Epoch 46/60\n",
      "844/844 [==============================] - 33s 39ms/step - loss: 0.0105 - accuracy: 0.9979 - val_loss: 0.0536 - val_accuracy: 0.9863\n",
      "Epoch 47/60\n",
      "844/844 [==============================] - 33s 39ms/step - loss: 0.0097 - accuracy: 0.9982 - val_loss: 0.0574 - val_accuracy: 0.9845\n",
      "Epoch 48/60\n",
      "844/844 [==============================] - 33s 39ms/step - loss: 0.0093 - accuracy: 0.9983 - val_loss: 0.0557 - val_accuracy: 0.9855\n",
      "Epoch 49/60\n",
      "844/844 [==============================] - 33s 39ms/step - loss: 0.0091 - accuracy: 0.9981 - val_loss: 0.0559 - val_accuracy: 0.9853\n",
      "Epoch 50/60\n",
      "844/844 [==============================] - 33s 39ms/step - loss: 0.0083 - accuracy: 0.9985 - val_loss: 0.0581 - val_accuracy: 0.9848\n",
      "Epoch 51/60\n",
      "844/844 [==============================] - 34s 40ms/step - loss: 0.0081 - accuracy: 0.9985 - val_loss: 0.0571 - val_accuracy: 0.9852\n",
      "Epoch 52/60\n",
      "844/844 [==============================] - 33s 39ms/step - loss: 0.0074 - accuracy: 0.9986 - val_loss: 0.0570 - val_accuracy: 0.9852\n",
      "Epoch 53/60\n",
      "844/844 [==============================] - 33s 39ms/step - loss: 0.0070 - accuracy: 0.9989 - val_loss: 0.0602 - val_accuracy: 0.9848\n",
      "Epoch 54/60\n",
      "844/844 [==============================] - 33s 40ms/step - loss: 0.0070 - accuracy: 0.9990 - val_loss: 0.0542 - val_accuracy: 0.9870\n",
      "Epoch 55/60\n",
      "844/844 [==============================] - 33s 39ms/step - loss: 0.0063 - accuracy: 0.9990 - val_loss: 0.0559 - val_accuracy: 0.9857\n",
      "Epoch 56/60\n",
      "844/844 [==============================] - 33s 39ms/step - loss: 0.0059 - accuracy: 0.9992 - val_loss: 0.0573 - val_accuracy: 0.9848\n",
      "Epoch 57/60\n",
      "844/844 [==============================] - 31s 37ms/step - loss: 0.0059 - accuracy: 0.9990 - val_loss: 0.0567 - val_accuracy: 0.9857\n",
      "Epoch 58/60\n",
      "844/844 [==============================] - 32s 38ms/step - loss: 0.0057 - accuracy: 0.9990 - val_loss: 0.0590 - val_accuracy: 0.9858\n",
      "Epoch 59/60\n",
      "844/844 [==============================] - 32s 38ms/step - loss: 0.0053 - accuracy: 0.9992 - val_loss: 0.0581 - val_accuracy: 0.9862\n",
      "Epoch 60/60\n",
      "844/844 [==============================] - 32s 38ms/step - loss: 0.0048 - accuracy: 0.9994 - val_loss: 0.0583 - val_accuracy: 0.9855\n"
     ]
    }
   ],
   "source": [
    "model_b_history=model_b.fit(X_train,y_train, epochs=60,batch_size=64,validation_data=(X_valid,y_valid))"
   ]
  },
  {
   "cell_type": "code",
   "execution_count": 31,
   "id": "5942a8d9",
   "metadata": {},
   "outputs": [
    {
     "data": {
      "image/png": "[encoded data removed]",
      "text/plain": [
       "<Figure size 800x500 with 1 Axes>"
      ]
     },
     "metadata": {},
     "output_type": "display_data"
    }
   ],
   "source": [
    "pd.DataFrame(model_a_history.history).plot(figsize=(8,5))\n",
    "plt.grid(True)\n",
    "plt.gca().set_ylim(0,1)\n",
    "plt.show()"
   ]
  },
  {
   "cell_type": "code",
   "execution_count": 32,
   "id": "94a98731",
   "metadata": {},
   "outputs": [
    {
     "name": "stdout",
     "output_type": "stream",
     "text": [
      "313/313 [==============================] - 2s 5ms/step - loss: 12.2214 - accuracy: 0.9823\n"
     ]
    },
    {
     "data": {
      "text/plain": [
       "[12.221404075622559, 0.9822999835014343]"
      ]
     },
     "execution_count": 32,
     "metadata": {},
     "output_type": "execute_result"
    }
   ],
   "source": [
    "model_a.evaluate(X_test,y_test)"
   ]
  },
  {
   "cell_type": "code",
   "execution_count": 33,
   "id": "35116074",
   "metadata": {},
   "outputs": [
    {
     "name": "stdout",
     "output_type": "stream",
     "text": [
      "313/313 [==============================] - 3s 8ms/step - loss: 11.3262 - accuracy: 0.9841\n"
     ]
    },
    {
     "data": {
      "text/plain": [
       "[11.3262300491333, 0.9840999841690063]"
      ]
     },
     "execution_count": 33,
     "metadata": {},
     "output_type": "execute_result"
    }
   ],
   "source": [
    "model_b.evaluate(X_test,y_test)"
   ]
  },
  {
   "cell_type": "code",
   "execution_count": 34,
   "id": "474a52a9",
   "metadata": {},
   "outputs": [],
   "source": [
    "X_new=X_test[:5]"
   ]
  },
  {
   "cell_type": "code",
   "execution_count": 37,
   "id": "218298cb",
   "metadata": {},
   "outputs": [
    {
     "name": "stdout",
     "output_type": "stream",
     "text": [
      "1/1 [==============================] - 0s 22ms/step\n"
     ]
    }
   ],
   "source": [
    "y_proba_a=model_a.predict(X_new)"
   ]
  },
  {
   "cell_type": "code",
   "execution_count": 38,
   "id": "2d0eae7a",
   "metadata": {},
   "outputs": [
    {
     "name": "stdout",
     "output_type": "stream",
     "text": [
      "1/1 [==============================] - 0s 23ms/step\n"
     ]
    }
   ],
   "source": [
    "y_proba_b=model_b.predict(X_new)"
   ]
  },
  {
   "cell_type": "code",
   "execution_count": 39,
   "id": "857171ba",
   "metadata": {},
   "outputs": [
    {
     "data": {
      "text/plain": [
       "array([[0., 0., 0., 0., 0., 0., 0., 1., 0., 0.],\n",
       "       [0., 0., 1., 0., 0., 0., 0., 0., 0., 0.],\n",
       "       [0., 1., 0., 0., 0., 0., 0., 0., 0., 0.],\n",
       "       [1., 0., 0., 0., 0., 0., 0., 0., 0., 0.],\n",
       "       [0., 0., 0., 0., 1., 0., 0., 0., 0., 0.]], dtype=float32)"
      ]
     },
     "execution_count": 39,
     "metadata": {},
     "output_type": "execute_result"
    }
   ],
   "source": [
    "y_proba_a"
   ]
  },
  {
   "cell_type": "code",
   "execution_count": 40,
   "id": "0859d492",
   "metadata": {},
   "outputs": [
    {
     "data": {
      "text/plain": [
       "array([[0., 0., 0., 0., 0., 0., 0., 1., 0., 0.],\n",
       "       [0., 0., 1., 0., 0., 0., 0., 0., 0., 0.],\n",
       "       [0., 1., 0., 0., 0., 0., 0., 0., 0., 0.],\n",
       "       [1., 0., 0., 0., 0., 0., 0., 0., 0., 0.],\n",
       "       [0., 0., 0., 0., 1., 0., 0., 0., 0., 0.]], dtype=float32)"
      ]
     },
     "execution_count": 40,
     "metadata": {},
     "output_type": "execute_result"
    }
   ],
   "source": [
    "y_proba_b"
   ]
  },
  {
   "cell_type": "code",
   "execution_count": 41,
   "id": "7dda60dc",
   "metadata": {},
   "outputs": [
    {
     "name": "stdout",
     "output_type": "stream",
     "text": [
      "AxesImage(size=(28, 28))\n"
     ]
    },
    {
     "data": {
      "image/png": "[encoded data removed]",
      "text/plain": [
       "<Figure size 640x480 with 1 Axes>"
      ]
     },
     "metadata": {},
     "output_type": "display_data"
    }
   ],
   "source": [
    "print(plt.imshow(X_test[0]))"
   ]
  },
  {
   "cell_type": "code",
   "execution_count": 42,
   "id": "cef90948",
   "metadata": {},
   "outputs": [
    {
     "name": "stdout",
     "output_type": "stream",
     "text": [
      "AxesImage(size=(28, 28))\n"
     ]
    },
    {
     "data": {
      "image/png": "[encoded data removed]",
      "text/plain": [
       "<Figure size 640x480 with 1 Axes>"
      ]
     },
     "metadata": {},
     "output_type": "display_data"
    }
   ],
   "source": [
    "print(plt.imshow(X_test[3]))"
   ]
  },
  {
   "cell_type": "code",
   "execution_count": 43,
   "id": "d7609adc",
   "metadata": {},
   "outputs": [
    {
     "data": {
      "text/plain": [
       "array([7, 2, 1, 0, 4], dtype=uint8)"
      ]
     },
     "execution_count": 43,
     "metadata": {},
     "output_type": "execute_result"
    }
   ],
   "source": [
    "y_test[:5]"
   ]
  },
  {
   "cell_type": "code",
   "execution_count": 44,
   "id": "00f2fa40",
   "metadata": {},
   "outputs": [
    {
     "data": {
      "image/png": "[encoded data removed]",
      "text/plain": [
       "<Figure size 800x500 with 1 Axes>"
      ]
     },
     "metadata": {},
     "output_type": "display_data"
    },
    {
     "data": {
      "image/png": "[encoded data removed]",
      "text/plain": [
       "<Figure size 800x500 with 1 Axes>"
      ]
     },
     "metadata": {},
     "output_type": "display_data"
    }
   ],
   "source": [
    "pd.DataFrame(model_a_history.history).plot(figsize=(8,5))\n",
    "pd.DataFrame(model_b_history.history).plot(figsize=(8,5))\n",
    "plt.grid(True)\n",
    "plt.gca().set_ylim(0,1)\n",
    "plt.show()"
   ]
  },
  {
   "cell_type": "code",
   "execution_count": null,
   "id": "447b5b64",
   "metadata": {},
   "outputs": [],
   "source": []
  },
  {
   "cell_type": "code",
   "execution_count": null,
   "id": "4c87bbf4",
   "metadata": {},
   "outputs": [],
   "source": []
  },
  {
   "cell_type": "code",
   "execution_count": null,
   "id": "a4bdf94e",
   "metadata": {},
   "outputs": [],
   "source": []
  },
  {
   "cell_type": "code",
   "execution_count": null,
   "id": "66f26bd1",
   "metadata": {},
   "outputs": [],
   "source": []
  },
  {
   "cell_type": "code",
   "execution_count": null,
   "id": "657faf51",
   "metadata": {},
   "outputs": [],
   "source": []
  },
  {
   "cell_type": "code",
   "execution_count": null,
   "id": "b673f54c",
   "metadata": {},
   "outputs": [],
   "source": []
  }
 ],
 "metadata": {
  "kernelspec": {
   "display_name": "Python 3 (ipykernel)",
   "language": "python",
   "name": "python3"
  },
  "language_info": {
   "codemirror_mode": {
    "name": "ipython",
    "version": 3
   },
   "file_extension": ".py",
   "mimetype": "text/x-python",
   "name": "python",
   "nbconvert_exporter": "python",
   "pygments_lexer": "ipython3",
   "version": "3.11.5"
  }
 },
 "nbformat": 4,
 "nbformat_minor": 5
}
